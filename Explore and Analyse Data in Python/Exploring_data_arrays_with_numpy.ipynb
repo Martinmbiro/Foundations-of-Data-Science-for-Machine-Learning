{
  "nbformat": 4,
  "nbformat_minor": 0,
  "metadata": {
    "colab": {
      "provenance": [],
      "toc_visible": true
    },
    "kernelspec": {
      "name": "python3",
      "display_name": "Python 3"
    },
    "language_info": {
      "name": "python"
    }
  },
  "cells": [
    {
      "cell_type": "code",
      "execution_count": 16,
      "metadata": {
        "colab": {
          "base_uri": "https://localhost:8080/"
        },
        "id": "LqVVT8q1AR_7",
        "outputId": "de4ea680-51fe-4f92-9874-c4249beea083"
      },
      "outputs": [
        {
          "output_type": "stream",
          "name": "stdout",
          "text": [
            "[50, 50, 47, 97, 49, 3, 53, 42, 26, 74, 82, 62, 37, 15, 70, 27, 36, 35, 48, 52, 63, 64]\n",
            "[50 50 47 97 49  3 53 42 26 74 82 62 37 15 70 27 36 35 48 52 63 64]\n"
          ]
        },
        {
          "output_type": "execute_result",
          "data": {
            "text/plain": [
              "array([[10.  , 11.5 ,  9.  , 16.  ,  9.25,  1.  , 11.5 ,  9.  ,  8.5 ,\n",
              "        14.5 , 15.5 , 13.75,  9.  ,  8.  , 15.5 ,  8.  ,  9.  ,  6.  ,\n",
              "        10.  , 12.  , 12.5 , 12.  ],\n",
              "       [50.  , 50.  , 47.  , 97.  , 49.  ,  3.  , 53.  , 42.  , 26.  ,\n",
              "        74.  , 82.  , 62.  , 37.  , 15.  , 70.  , 27.  , 36.  , 35.  ,\n",
              "        48.  , 52.  , 63.  , 64.  ]])"
            ]
          },
          "metadata": {},
          "execution_count": 16
        }
      ],
      "source": [
        "# Sample student data below inserted in a list:\n",
        "data = [50,50,47,97,49,3,53,42,26,74,82,62,37,15,70,27,36,35,48,52,63,64]\n",
        "\n",
        "# Printing the data\n",
        "print(data)\n",
        "\n",
        "# Import NumPy\n",
        "import numpy as np\n",
        "# Converting 'data' into a NumPy Array\n",
        "grades = np.array(data)\n",
        "\n",
        "# Print grades\n",
        "print(grades)\n",
        "\n",
        "#To view the shape of the array\n",
        "grades.shape\n",
        "\n",
        "#Finding the array's mean\n",
        "#print(\"Mean: \", grades.mean)\n",
        "\n",
        "# Define an array of study hours\n",
        "study_hours = [10.0,11.5,9.0,16.0,9.25,1.0,11.5,9.0,8.5,14.5,15.5,\n",
        "               13.75,9.0,8.0,15.5,8.0,9.0,6.0,10.0,12.0,12.5,12.0]\n",
        "\n",
        "# Define a 2D array\n",
        "student_data = np.array([study_hours, grades])\n",
        "\n",
        "#Display array\n",
        "student_data"
      ]
    },
    {
      "cell_type": "code",
      "source": [
        "# Displaying the first element of the first element in the array:\n",
        "student_data[0][0]"
      ],
      "metadata": {
        "id": "u0ui6RvCnVh0",
        "colab": {
          "base_uri": "https://localhost:8080/"
        },
        "outputId": "8a962d58-6d51-4e9b-bee6-b99067d6e41b"
      },
      "execution_count": 8,
      "outputs": [
        {
          "output_type": "execute_result",
          "data": {
            "text/plain": [
              "10.0"
            ]
          },
          "metadata": {},
          "execution_count": 8
        }
      ]
    },
    {
      "cell_type": "code",
      "source": [
        "# Getting mean value for each sub-arrray\n",
        "avg_hours = student_data[0].mean()\n",
        "avg_grades = student_data[1].mean()\n",
        "\n",
        "# Printing\n",
        "print(\"Average Study Hours: {:.2f}\\nAverage Grades: {:.2f}\".format(avg_hours, avg_grades))"
      ],
      "metadata": {
        "colab": {
          "base_uri": "https://localhost:8080/"
        },
        "id": "1L0fIlvllHjp",
        "outputId": "495bca0b-b555-4ab7-c30c-58bbae2840a6"
      },
      "execution_count": 15,
      "outputs": [
        {
          "output_type": "stream",
          "name": "stdout",
          "text": [
            "Average Study Hours: 10.52\n",
            "Average Grades: 49.18\n"
          ]
        }
      ]
    }
  ]
}