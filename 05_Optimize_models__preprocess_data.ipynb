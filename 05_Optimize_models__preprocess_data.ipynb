{
  "nbformat": 4,
  "nbformat_minor": 0,
  "metadata": {
    "colab": {
      "provenance": [],
      "authorship_tag": "ABX9TyNPbezV1BYg+gGFmRQZgU6V",
      "include_colab_link": true
    },
    "kernelspec": {
      "name": "python3",
      "display_name": "Python 3"
    },
    "language_info": {
      "name": "python"
    }
  },
  "cells": [
    {
      "cell_type": "markdown",
      "metadata": {
        "id": "view-in-github",
        "colab_type": "text"
      },
      "source": [
        "<a href=\"https://colab.research.google.com/github/Martinmbiro/Foundations-of-Data-Science-for-Machine-Learning/blob/main/05_Optimize_models__preprocess_data.ipynb\" target=\"_parent\"><img src=\"https://colab.research.google.com/assets/colab-badge.svg\" alt=\"Open In Colab\"/></a>"
      ]
    },
    {
      "cell_type": "markdown",
      "source": [
        "<style>\n",
        "  .scrollable{\n",
        "    max-height: 300px;\n",
        "    max-width: 900px;\n",
        "    overflow: auto;\n",
        "  }\n",
        "</style>"
      ],
      "metadata": {
        "id": "sRAHiaWIGEhy"
      }
    },
    {
      "cell_type": "markdown",
      "source": [
        "# **Optimize models: Pre-process data**\n",
        "---\n",
        "> This notebook entails optimizing the performance of the models in the previous notebook by **pre-processing the data**"
      ],
      "metadata": {
        "id": "KFf16pY-TU7z"
      }
    },
    {
      "cell_type": "markdown",
      "source": [
        "## Load the data"
      ],
      "metadata": {
        "id": "FrovuMPL6_rd"
      }
    },
    {
      "cell_type": "code",
      "source": [
        "%%html\n",
        "<div class=scrollable>"
      ],
      "metadata": {
        "id": "mdRYoYjTMyLN",
        "colab": {
          "base_uri": "https://localhost:8080/",
          "height": 17
        },
        "outputId": "63278bdb-307a-4c49-e30b-44afc1e1ed22"
      },
      "execution_count": 1,
      "outputs": [
        {
          "output_type": "display_data",
          "data": {
            "text/plain": [
              "<IPython.core.display.HTML object>"
            ],
            "text/html": [
              "<div class = \"scrollable\">\n"
            ]
          },
          "metadata": {}
        }
      ]
    },
    {
      "cell_type": "code",
      "source": [
        "# Import pandas\n",
        "import pandas as pd\n",
        "\n",
        "# load the training dataset\n",
        "!wget https://raw.githubusercontent.com/MicrosoftDocs/mslearn-introduction-to-machine-learning/main/Data/ml-basics/daily-bike-share.csv\n",
        "bike_data = pd.read_csv('daily-bike-share.csv')"
      ],
      "metadata": {
        "id": "10_c65dI7fuk",
        "collapsed": true,
        "colab": {
          "base_uri": "https://localhost:8080/"
        },
        "outputId": "4d55c89b-0fa5-4f63-f203-9a90e90a8607"
      },
      "execution_count": 2,
      "outputs": [
        {
          "output_type": "stream",
          "name": "stdout",
          "text": [
            "--2024-05-17 19:35:34--  https://raw.githubusercontent.com/MicrosoftDocs/mslearn-introduction-to-machine-learning/main/Data/ml-basics/daily-bike-share.csv\n",
            "Resolving raw.githubusercontent.com (raw.githubusercontent.com)... 185.199.108.133, 185.199.109.133, 185.199.110.133, ...\n",
            "Connecting to raw.githubusercontent.com (raw.githubusercontent.com)|185.199.108.133|:443... connected.\n",
            "HTTP request sent, awaiting response... 200 OK\n",
            "Length: 48800 (48K) [text/plain]\n",
            "Saving to: ‘daily-bike-share.csv’\n",
            "\n",
            "\rdaily-bike-share.cs   0%[                    ]       0  --.-KB/s               \rdaily-bike-share.cs 100%[===================>]  47.66K  --.-KB/s    in 0.001s  \n",
            "\n",
            "2024-05-17 19:35:34 (34.1 MB/s) - ‘daily-bike-share.csv’ saved [48800/48800]\n",
            "\n"
          ]
        }
      ]
    },
    {
      "cell_type": "code",
      "source": [
        "%%html\n",
        "</div>"
      ],
      "metadata": {
        "id": "7XbSb9CzJTe2"
      },
      "execution_count": null,
      "outputs": []
    },
    {
      "cell_type": "code",
      "source": [
        "%%html\n",
        "<div class = \"scrollable\">"
      ],
      "metadata": {
        "id": "7ElGm1DVNGg-",
        "colab": {
          "base_uri": "https://localhost:8080/",
          "height": 17
        },
        "outputId": "f764c8ac-c114-48ea-d642-b91bdbdb8863"
      },
      "execution_count": 4,
      "outputs": [
        {
          "output_type": "display_data",
          "data": {
            "text/plain": [
              "<IPython.core.display.HTML object>"
            ],
            "text/html": [
              "<div class = \"scrollable\">\n"
            ]
          },
          "metadata": {}
        }
      ]
    },
    {
      "cell_type": "code",
      "source": [
        "# Extract features / inputs (X) and label (y)\n",
        "# features/inputs (X):\n",
        "X = bike_data[['season','mnth', 'holiday','weekday','workingday','weathersit','temp', 'atemp', 'hum', 'windspeed']]\n",
        "\n",
        "# label (y):\n",
        "y = bike_data['rentals']\n",
        "\n",
        "numeric_features = ['temp', 'atemp', 'hum', 'windspeed']\n",
        "categorical_features = ['season','mnth','holiday','weekday','workingday','weathersit']"
      ],
      "metadata": {
        "id": "8EhjOUjK7x4Z"
      },
      "execution_count": 5,
      "outputs": []
    },
    {
      "cell_type": "code",
      "source": [
        "%%html\n",
        "</div>"
      ],
      "metadata": {
        "id": "toJPqsa4JXbx"
      },
      "execution_count": null,
      "outputs": []
    },
    {
      "cell_type": "code",
      "source": [
        "%%html\n",
        "<div class = \"scrollable\">"
      ],
      "metadata": {
        "id": "pkwrxhjFNIaF",
        "colab": {
          "base_uri": "https://localhost:8080/",
          "height": 17
        },
        "outputId": "3dd002d5-a5b0-4e1c-ff1a-f6514a25e167"
      },
      "execution_count": 7,
      "outputs": [
        {
          "output_type": "display_data",
          "data": {
            "text/plain": [
              "<IPython.core.display.HTML object>"
            ],
            "text/html": [
              "<div class = \"scrollable\">\n"
            ]
          },
          "metadata": {}
        }
      ]
    },
    {
      "cell_type": "code",
      "source": [
        "# Import train_test_split\n",
        "from sklearn.model_selection import train_test_split\n",
        "\n",
        "# Split the data into training and validation / test sets 70% - 30%\n",
        "X_train, X_test, y_train, y_test = train_test_split(X, y, test_size=0.3, random_state=42)\n",
        "\n",
        "# Keep in mind that the resultant variables (X_train, X_test, y_train, y_test) are all DataFrames\n",
        "type(X_train)"
      ],
      "metadata": {
        "id": "it76Z4jD8aP8"
      },
      "execution_count": null,
      "outputs": []
    },
    {
      "cell_type": "code",
      "source": [
        "%%html\n",
        "</div>"
      ],
      "metadata": {
        "id": "m_j7HY2TNNlG",
        "colab": {
          "base_uri": "https://localhost:8080/",
          "height": 17
        },
        "outputId": "9d2dabe8-cfc4-428c-bbd0-2f6bf9f740b3"
      },
      "execution_count": 9,
      "outputs": [
        {
          "output_type": "display_data",
          "data": {
            "text/plain": [
              "<IPython.core.display.HTML object>"
            ],
            "text/html": [
              "</div>\n"
            ]
          },
          "metadata": {}
        }
      ]
    },
    {
      "cell_type": "code",
      "source": [
        "%%html\n",
        "<div class = \"scrollable\">"
      ],
      "metadata": {
        "id": "pxjvGt4vNNfk",
        "colab": {
          "base_uri": "https://localhost:8080/",
          "height": 17
        },
        "outputId": "94d07c24-8c75-4ef0-9ab9-e959f569ed9e"
      },
      "execution_count": 10,
      "outputs": [
        {
          "output_type": "display_data",
          "data": {
            "text/plain": [
              "<IPython.core.display.HTML object>"
            ],
            "text/html": [
              "<div class = \"scrollable\">\n"
            ]
          },
          "metadata": {}
        }
      ]
    },
    {
      "cell_type": "code",
      "source": [
        "# define function for evaluation model, on VALIDATION DATASET\n",
        "def evaluate_model(model):\n",
        "  from sklearn.metrics import mean_squared_error, r2_score, mean_absolute_error\n",
        "  import numpy as np\n",
        "\n",
        "  # Get predictions from the model passed\n",
        "  y_pred = model.predict(X_test)\n",
        "\n",
        "  # MSE\n",
        "  mse = mean_squared_error(y_test, y_pred)\n",
        "  # RMSE\n",
        "  rmse = np.sqrt(mse)\n",
        "  # R-squared\n",
        "  r2 = r2_score(y_test, y_pred)\n",
        "  # MAE\n",
        "  mae = mean_absolute_error(y_test, y_pred)\n",
        "\n",
        "  print(f\"\\nMSE: {round(mse, 2)}\")\n",
        "  print(f\"MAE: {round(mae, 2)}\")\n",
        "  print(f\"RMSE: {round(rmse, 2)}\")\n",
        "  print(f\"R Squared: {round(r2, 3)}\")"
      ],
      "metadata": {
        "id": "_2BNQc7keeey"
      },
      "execution_count": 11,
      "outputs": []
    },
    {
      "cell_type": "code",
      "source": [
        "%%html\n",
        "</div>"
      ],
      "metadata": {
        "id": "l75Zu5URNSDt",
        "colab": {
          "base_uri": "https://localhost:8080/",
          "height": 17
        },
        "outputId": "6e4acdb6-a42e-4560-97fd-a1a34e639d77"
      },
      "execution_count": 12,
      "outputs": [
        {
          "output_type": "display_data",
          "data": {
            "text/plain": [
              "<IPython.core.display.HTML object>"
            ],
            "text/html": [
              "</div>\n"
            ]
          },
          "metadata": {}
        }
      ]
    },
    {
      "cell_type": "code",
      "source": [
        "%%html\n",
        "<div class = \"scrollable\">"
      ],
      "metadata": {
        "id": "qAUxcucINR9V",
        "colab": {
          "base_uri": "https://localhost:8080/",
          "height": 17
        },
        "outputId": "80c0fe2e-5eda-4e40-a9c2-f876692d01a3"
      },
      "execution_count": 13,
      "outputs": [
        {
          "output_type": "display_data",
          "data": {
            "text/plain": [
              "<IPython.core.display.HTML object>"
            ],
            "text/html": [
              "<div class = \"scrollable\">\n"
            ]
          },
          "metadata": {}
        }
      ]
    },
    {
      "cell_type": "code",
      "source": [
        "# Define a function to plot Predicted Label vs Actual Label + line of best fit\n",
        "def plot_visual(model):\n",
        "  # make predictions:\n",
        "  y_pred = model.predict(X_test)\n",
        "\n",
        "  import matplotlib.pyplot as plt\n",
        "  # Import linregress to calculate linear least_squares regression for y_pred & y_test\n",
        "  from scipy.stats import linregress\n",
        "  result = linregress(y_test, y_pred)\n",
        "  # f(x) = mx + b\n",
        "  b = result.intercept\n",
        "  m = result.slope\n",
        "  # f(x)\n",
        "  fx = pd.Series((m*y_test)+b)\n",
        "\n",
        "  # figure and Axes\n",
        "  fig, ax = plt.subplots(figsize=(5.5, 4))\n",
        "\n",
        "  # scatter plot\n",
        "  ax.scatter(x = y_test, y = y_pred, marker=\".\", color=\"#1b1b1b\")\n",
        "\n",
        "  # regression line\n",
        "  ax.plot(y_test, fx, color = \"#ff004f\", linewidth=1.5)\n",
        "\n",
        "  # Customize the plot with matplotlib methods\n",
        "  ax.set_ylabel(\"Predicted Label Values\", weight=\"black\", fontsize=9.5)\n",
        "  ax.set_xlabel(\"Actual Label Values\", weight=\"black\", fontsize=9.5)\n",
        "  ax.set_title(\"Daily Bike Share Predictions (with Regression Line)\")\n",
        "\n",
        "  plt.show()"
      ],
      "metadata": {
        "id": "XOiTAPT-eg6z"
      },
      "execution_count": 14,
      "outputs": []
    },
    {
      "cell_type": "code",
      "source": [
        "%%html\n",
        "</div>"
      ],
      "metadata": {
        "id": "0w0x-xCgNWUn",
        "colab": {
          "base_uri": "https://localhost:8080/",
          "height": 17
        },
        "outputId": "b6f60813-da14-4bfd-d783-25cead5ec4f9"
      },
      "execution_count": 15,
      "outputs": [
        {
          "output_type": "display_data",
          "data": {
            "text/plain": [
              "<IPython.core.display.HTML object>"
            ],
            "text/html": [
              "</div>\n"
            ]
          },
          "metadata": {}
        }
      ]
    },
    {
      "cell_type": "markdown",
      "source": [
        "## Pre-processing the data\n",
        "> In practice, it's common to perform some preprocessing of the data to make it easier for the algorithm to fit a model to it.\n",
        "\n",
        "> There's a huge range of preprocessing transformations that can be performed to get data ready for modeling, but we'll limit ourselves to a few common techniques:\n",
        "+ Scaling numeric features\n",
        "+ Encoding categorical features"
      ],
      "metadata": {
        "id": "HapkjInuQPTf"
      }
    },
    {
      "cell_type": "markdown",
      "source": [
        "### Encoding categorical features\n",
        "> Machine-learning models work best with numeric features rather than text values, so the need to convert categorical features into numeric representations. This can be achieved by either of the two techniques\n",
        "+ [`OneHotEncoder`](https://scikit-learn.org/stable/modules/generated/sklearn.preprocessing.OneHotEncoder.html#sklearn.preprocessing.OneHotEncoder) - create individual binary (0 or 1) features for each possible category value  \n",
        "+ [`OrdinalEncoder`](https://scikit-learn.org/stable/modules/generated/sklearn.preprocessing.OrdinalEncoder.html#sklearn.preprocessing.OrdinalEncoder) - substitute a unique integer value for each unique category"
      ],
      "metadata": {
        "id": "IIw1UTSwBNye"
      }
    },
    {
      "cell_type": "markdown",
      "source": [
        "### Scaling numerical features\n",
        "> Numeric features often have different scales and ranges. For example, one feature might range from 0 to 100 while another ranges from 0 to 100,000.\n",
        "\n",
        "> Models like linear regression or neural networks are sensitive to the scale of input features. Features with larger scales might dominate the learning process, leading to biased or incorrect model predictions.\n",
        "\n",
        "> Scaling numeric features helps in bringing all features to the same scale, preventing any one feature from dominating the learning process and improving the model's convergence and performance. Numerical feature scaling can be done using:  \n",
        "+ [`StandardScaler`](https://scikit-learn.org/stable/modules/generated/sklearn.preprocessing.StandardScaler.html#sklearn.preprocessing.StandardScaler.transform) - scales features to have a mean of 0 and a standard deviation of 1 to maintain the same spread of values on a different scale  \n",
        "+ [`MinMaxScaler`](https://scikit-learn.org/stable/modules/generated/sklearn.preprocessing.OrdinalEncoder.html#sklearn.preprocessing.OrdinalEncoder) - calculates the minimum and maximum values for each column and assigns a proportional value a given range, typically between 0 and 1  "
      ],
      "metadata": {
        "id": "U67jWwGSDLSQ"
      }
    },
    {
      "cell_type": "markdown",
      "source": [
        "## Scikit-Learn [`Pipeline`](https://scikit-learn.org/stable/modules/generated/sklearn.pipeline.Pipeline.html#sklearn.pipeline.Pipeline)  \n",
        "> A Scikit-Learn feature that allows `list` a number of transformers to perform preprocessing on data, and apply an optional final _predictor._ Intermediate steps of the pipeline must be _transforms_, that is, they must implement `fit` and `transform` methods. The final _estimator_ only needs to implement `fit`\n",
        "\n",
        "> Here are some common examples:  \n",
        ">> **1. Estimators (Modeling Algorithms):**\n",
        "+ Classifiers (e.g., `LogisticRegression`, `RandomForestClassifier`)\n",
        "+ Regressors (e.g., `LinearRegression`, `RandomForestRegressor`)\n",
        "+ Clustering algorithms (e.g., `KMeans`, `DBSCAN`)\n",
        "\n",
        ">> **2. Transformers (Preprocessing and Feature Engineering):**   \n",
        "+ Scaling methods (e.g., `StandardScaler`, `MinMaxScaler`)\n",
        "+ Imputation techniques (e.g., [`SimpleImputer`](https://scikit-learn.org/stable/modules/generated/sklearn.impute.SimpleImputer.html#sklearn.impute.SimpleImputer))\n",
        "+ Feature selection methods (e.g., `SelectKBest`, `PCA`)\n",
        "+ Text processing tools (e.g., `TfidfVectorizer`, `CountVectorizer`)\n",
        "\n",
        ">> **3. Composite Estimators or Pipelines:**  \n",
        "+ Pipelines themselves can be nested within other pipelines, allowing for complex preprocessing and modeling workflows.  \n",
        "\n",
        "> A `Pipeline` object is created by passing a list of tuples. Each tuple contains a _name for the step_ and an _estimator / transformer object._\n",
        "+ The _name of the step_ is user-defined and can be any string that is meaningful to the user. Example:  \n",
        "```\n",
        "pipeline = Pipeline(steps=[\n",
        "    ('scaler', StandardScaler()),  # Step 1: StandardScaler\n",
        "    ('svc', SVC())  # Step 2: SVC\n",
        "])\n",
        "```"
      ],
      "metadata": {
        "id": "X1L-P5GW6wor"
      }
    },
    {
      "cell_type": "code",
      "source": [
        "%%html\n",
        "<div class = \"scrollable\">"
      ],
      "metadata": {
        "id": "_rO2kOAHNbMt",
        "colab": {
          "base_uri": "https://localhost:8080/",
          "height": 17
        },
        "outputId": "db5d9d22-33c2-4ffb-dd49-ab15c9376ab5"
      },
      "execution_count": 16,
      "outputs": [
        {
          "output_type": "display_data",
          "data": {
            "text/plain": [
              "<IPython.core.display.HTML object>"
            ],
            "text/html": [
              "<div class = \"scrollable\">\n"
            ]
          },
          "metadata": {}
        }
      ]
    },
    {
      "cell_type": "code",
      "source": [
        "# Import Pipeline, OneHotEncoder, StandardScaler, SimpleImputer\n",
        "from sklearn.pipeline import Pipeline\n",
        "from sklearn.preprocessing import OneHotEncoder\n",
        "from sklearn.preprocessing import StandardScaler\n",
        "from sklearn.impute import SimpleImputer\n",
        "\n",
        "# Specify transformer to encode categorical features\n",
        "\"\"\"\n",
        "handle_unknown=\"ignore\"\n",
        "\n",
        "When an unknown category is encountered during transform,\n",
        "the resulting one-hot encoded columns for this feature will be all zeros.\n",
        "In the inverse transform, an unknown category will be denoted as None.\n",
        "\n",
        "strategy=\"most_frequent\"\n",
        "Replace missing using the most frequent value along each column\n",
        "\n",
        "\"\"\"\n",
        "cat_transformer = Pipeline(steps=[\n",
        "    (\"imputer\", SimpleImputer(strategy=\"most_frequent\")),\n",
        "    (\"ohe\", OneHotEncoder(handle_unknown=\"ignore\"))\n",
        "])"
      ],
      "metadata": {
        "id": "i6RIE9eG-HCq"
      },
      "execution_count": 17,
      "outputs": []
    },
    {
      "cell_type": "code",
      "source": [
        "%%html\n",
        "</div>"
      ],
      "metadata": {
        "id": "SfQsLECbNcov",
        "colab": {
          "base_uri": "https://localhost:8080/",
          "height": 17
        },
        "outputId": "e213a045-b526-402e-a87d-45a18b596297"
      },
      "execution_count": 18,
      "outputs": [
        {
          "output_type": "display_data",
          "data": {
            "text/plain": [
              "<IPython.core.display.HTML object>"
            ],
            "text/html": [
              "</div>\n"
            ]
          },
          "metadata": {}
        }
      ]
    },
    {
      "cell_type": "code",
      "source": [
        "%%html\n",
        "<div class = \"scrollable\">"
      ],
      "metadata": {
        "id": "gWSxXuPmNciT",
        "colab": {
          "base_uri": "https://localhost:8080/",
          "height": 17
        },
        "outputId": "e0010578-ad1a-4258-e953-e875c87b1af9"
      },
      "execution_count": 19,
      "outputs": [
        {
          "output_type": "display_data",
          "data": {
            "text/plain": [
              "<IPython.core.display.HTML object>"
            ],
            "text/html": [
              "<div class = \"scrollable\">\n"
            ]
          },
          "metadata": {}
        }
      ]
    },
    {
      "cell_type": "code",
      "source": [
        "# Specify transformer to scale numerical features\n",
        "\"\"\"\n",
        "strategy=\"mean\"\n",
        "Replace missing values using the mean along each column.\n",
        "Can only be used with numeric data\n",
        "\"\"\"\n",
        "num_transformer = Pipeline(steps=[\n",
        "    (\"imputer\", SimpleImputer(strategy=\"mean\")),\n",
        "    (\"std_sc\", StandardScaler())\n",
        "])"
      ],
      "metadata": {
        "id": "X0PKSkle-YTP"
      },
      "execution_count": 20,
      "outputs": []
    },
    {
      "cell_type": "code",
      "source": [
        "%%html\n",
        "</div>"
      ],
      "metadata": {
        "id": "JuGfkhssNgh3",
        "colab": {
          "base_uri": "https://localhost:8080/",
          "height": 17
        },
        "outputId": "9b11772b-d44a-45ac-e6f8-9c0af0f939d6"
      },
      "execution_count": 21,
      "outputs": [
        {
          "output_type": "display_data",
          "data": {
            "text/plain": [
              "<IPython.core.display.HTML object>"
            ],
            "text/html": [
              "</div>\n"
            ]
          },
          "metadata": {}
        }
      ]
    },
    {
      "cell_type": "markdown",
      "source": [
        "## Scikit-Learn [`ColumnTransformer`](https://scikit-learn.org/stable/modules/generated/sklearn.compose.ColumnTransformer.html#sklearn.compose.ColumnTransformer)  \n",
        "\n",
        "> The `ColumnTransformer` in scikit-learn allows one to apply different transformers to different columns of the input data (`array` or `pandas` columns), enabling one to perform various preprocessing steps on specific subsets of features within the dataset.  \n",
        "\n",
        "> It's particularly useful when you have heterogeneous data, where different columns require different preprocessing steps.\n",
        "\n",
        "> Parameters:  \n",
        "+ **transformers:** `list` of (name, transformer, columns) tuples specifying the transformer objects to be applied to subsets of the data, and specific columns.\n",
        ">> + _namestr_ - a user-defined name of the transformer `Pipeline`\n",
        ">> + _transformer / estimator_\n",
        ">> + _columns:_ str, array-like of str, int, array-like of int, array-like of bool, slice or callable - Indexes the data on its second axis. Integers are interpreted as positional columns, while strings can reference DataFrame columns by name\n",
        "\n",
        "> Example:  \n",
        "```\n",
        "preprocessor = ColumnTransformer(\n",
        "    transformers=[\n",
        "        ('num', numeric_transformer, ['numeric_feature']),\n",
        "        ('cat', categorical_transformer, ['categorical_feature'])\n",
        "    ])\n",
        "```"
      ],
      "metadata": {
        "id": "_ZOMBKR3CvKh"
      }
    },
    {
      "cell_type": "code",
      "source": [
        "%%html\n",
        "<div class = \"scrollable\">"
      ],
      "metadata": {
        "id": "KfsfCwXRNltF",
        "colab": {
          "base_uri": "https://localhost:8080/",
          "height": 17
        },
        "outputId": "6633c55f-0d07-476f-dd07-1621ea598106"
      },
      "execution_count": 22,
      "outputs": [
        {
          "output_type": "display_data",
          "data": {
            "text/plain": [
              "<IPython.core.display.HTML object>"
            ],
            "text/html": [
              "<div class = \"scrollable\">\n"
            ]
          },
          "metadata": {}
        }
      ]
    },
    {
      "cell_type": "code",
      "source": [
        "# import ColumnTransformer\n",
        "from  sklearn.compose import ColumnTransformer\n",
        "\n",
        "# Now combining the cat_transformer and num_transformer preprocessing steps into one:\n",
        "preprocessor = ColumnTransformer(transformers=[\n",
        "    (\"cat\", cat_transformer, categorical_features),\n",
        "    (\"num\", num_transformer, numeric_features)\n",
        "])"
      ],
      "metadata": {
        "id": "n1e_N4oP_Wye"
      },
      "execution_count": 23,
      "outputs": []
    },
    {
      "cell_type": "code",
      "source": [
        "%%html\n",
        "</div>"
      ],
      "metadata": {
        "id": "Voq1fnQ7NnLa",
        "colab": {
          "base_uri": "https://localhost:8080/",
          "height": 17
        },
        "outputId": "42e17a54-81ba-45f2-b262-3e68c5b59c52"
      },
      "execution_count": 24,
      "outputs": [
        {
          "output_type": "display_data",
          "data": {
            "text/plain": [
              "<IPython.core.display.HTML object>"
            ],
            "text/html": [
              "</div>\n"
            ]
          },
          "metadata": {}
        }
      ]
    },
    {
      "cell_type": "markdown",
      "source": [
        "## Create preprocessing and training `Pipeline`"
      ],
      "metadata": {
        "id": "CAxBTFX0_NEd"
      }
    },
    {
      "cell_type": "markdown",
      "source": [
        "### [`RandomForestRegressor`](https://scikit-learn.org/stable/modules/generated/sklearn.ensemble.RandomForestRegressor.html#sklearn-ensemble-randomforestregressor) algorithm"
      ],
      "metadata": {
        "id": "nn7iDE33_W-Q"
      }
    },
    {
      "cell_type": "code",
      "source": [
        "%%html\n",
        "<div class = \"scrollable\">"
      ],
      "metadata": {
        "id": "lzK8iVjcNqbi",
        "colab": {
          "base_uri": "https://localhost:8080/",
          "height": 17
        },
        "outputId": "0b248463-df98-412f-8b14-d06423921675"
      },
      "execution_count": 25,
      "outputs": [
        {
          "output_type": "display_data",
          "data": {
            "text/plain": [
              "<IPython.core.display.HTML object>"
            ],
            "text/html": [
              "<div class = \"scrollable\">\n"
            ]
          },
          "metadata": {}
        }
      ]
    },
    {
      "cell_type": "code",
      "source": [
        "# import RandomForestRegressor\n",
        "from sklearn.ensemble import RandomForestRegressor\n",
        "\n",
        "# Create pipeline with preprocessor + RandomForestRegressor\n",
        "forest_pipeline = Pipeline(steps=[\n",
        "    (\"preprocess\", preprocessor),\n",
        "    (\"regressor\", RandomForestRegressor())\n",
        "])"
      ],
      "metadata": {
        "id": "Buhrv8GCBK2t"
      },
      "execution_count": 26,
      "outputs": []
    },
    {
      "cell_type": "code",
      "source": [
        "%%html\n",
        "</div>"
      ],
      "metadata": {
        "id": "QpNXKSqdNrPW",
        "colab": {
          "base_uri": "https://localhost:8080/",
          "height": 17
        },
        "outputId": "ca6c0f0d-1bd2-411f-8e71-08b640be95c9"
      },
      "execution_count": 27,
      "outputs": [
        {
          "output_type": "display_data",
          "data": {
            "text/plain": [
              "<IPython.core.display.HTML object>"
            ],
            "text/html": [
              "</div>\n"
            ]
          },
          "metadata": {}
        }
      ]
    },
    {
      "cell_type": "markdown",
      "source": [
        "#### Fit the model"
      ],
      "metadata": {
        "id": "sf5HNn1K_8dz"
      }
    },
    {
      "cell_type": "code",
      "source": [
        "%%time\n",
        "# Train model\n",
        "forest_model = forest_pipeline.fit(X_train, y_train)"
      ],
      "metadata": {
        "colab": {
          "base_uri": "https://localhost:8080/"
        },
        "id": "ucYGXrjDApTo",
        "outputId": "7b29647a-47e1-4e90-9497-a32810df7ae7"
      },
      "execution_count": 28,
      "outputs": [
        {
          "output_type": "stream",
          "name": "stdout",
          "text": [
            "CPU times: user 682 ms, sys: 5.66 ms, total: 688 ms\n",
            "Wall time: 702 ms\n"
          ]
        }
      ]
    },
    {
      "cell_type": "markdown",
      "source": [
        "#### Plot predicted vs actual values"
      ],
      "metadata": {
        "id": "dcG61GQO_9_g"
      }
    },
    {
      "cell_type": "code",
      "source": [
        "plot_visual(forest_model)"
      ],
      "metadata": {
        "colab": {
          "base_uri": "https://localhost:8080/",
          "height": 409
        },
        "id": "Mi5S10r6BrbO",
        "outputId": "7f738f22-b042-4000-c504-ac4dc2e35080"
      },
      "execution_count": 29,
      "outputs": [
        {
          "output_type": "display_data",
          "data": {
            "text/plain": [
              "<Figure size 550x400 with 1 Axes>"
            ],
            "image/png": "[encoded data removed]"
          },
          "metadata": {}
        }
      ]
    },
    {
      "cell_type": "markdown",
      "source": [
        "#### Evaluate the model"
      ],
      "metadata": {
        "id": "QJvo0ZRxAEmY"
      }
    },
    {
      "cell_type": "code",
      "source": [
        "evaluate_model(forest_model)"
      ],
      "metadata": {
        "colab": {
          "base_uri": "https://localhost:8080/"
        },
        "id": "CUBJP7jLBz8c",
        "outputId": "1ea22ed0-7331-405e-f02d-c480cb43acc9"
      },
      "execution_count": 30,
      "outputs": [
        {
          "output_type": "stream",
          "name": "stdout",
          "text": [
            "\n",
            "MSE: 75919.91\n",
            "MAE: 195.07\n",
            "RMSE: 275.54\n",
            "R Squared: 0.812\n"
          ]
        }
      ]
    },
    {
      "cell_type": "markdown",
      "source": [
        "### [`GradientBoostingRegressor`](https://scikit-learn.org/stable/modules/generated/sklearn.ensemble.GradientBoostingRegressor.html#sklearn-ensemble-gradientboostingregressor) algorithm"
      ],
      "metadata": {
        "id": "UY2Ouun6_jdW"
      }
    },
    {
      "cell_type": "code",
      "source": [
        "%%html\n",
        "<div class = \"scrollable\">"
      ],
      "metadata": {
        "id": "x5LsLW0UNu7S",
        "colab": {
          "base_uri": "https://localhost:8080/",
          "height": 17
        },
        "outputId": "b961d97c-8497-49a8-877b-f2074964a7aa"
      },
      "execution_count": 31,
      "outputs": [
        {
          "output_type": "display_data",
          "data": {
            "text/plain": [
              "<IPython.core.display.HTML object>"
            ],
            "text/html": [
              "<div class = \"scrollable\">\n"
            ]
          },
          "metadata": {}
        }
      ]
    },
    {
      "cell_type": "code",
      "source": [
        "# import GradientBoostingRegressor\n",
        "from sklearn.ensemble import GradientBoostingRegressor\n",
        "\n",
        "# Create pipeline with preprocessor + GradientBoostingRegressor\n",
        "gb_pipeline = Pipeline(steps=[\n",
        "    (\"preprocess\", preprocessor),\n",
        "    (\"regressor\", GradientBoostingRegressor())\n",
        "])"
      ],
      "metadata": {
        "id": "uqic2PnRBNkE"
      },
      "execution_count": 32,
      "outputs": []
    },
    {
      "cell_type": "code",
      "source": [
        "%%html\n",
        "</div>"
      ],
      "metadata": {
        "id": "E5pF30qqNv_N",
        "colab": {
          "base_uri": "https://localhost:8080/",
          "height": 17
        },
        "outputId": "b6c38165-761b-451b-a077-08dbd28e3958"
      },
      "execution_count": 33,
      "outputs": [
        {
          "output_type": "display_data",
          "data": {
            "text/plain": [
              "<IPython.core.display.HTML object>"
            ],
            "text/html": [
              "</div>\n"
            ]
          },
          "metadata": {}
        }
      ]
    },
    {
      "cell_type": "markdown",
      "source": [
        "#### Fit the model"
      ],
      "metadata": {
        "id": "Y7dSN0z9APLP"
      }
    },
    {
      "cell_type": "code",
      "source": [
        "%%time\n",
        "# Train the model\n",
        "gb_model = gb_pipeline.fit(X_train, y_train)"
      ],
      "metadata": {
        "colab": {
          "base_uri": "https://localhost:8080/"
        },
        "id": "gkoHsF5sDpm2",
        "outputId": "89a98866-f3b8-4f75-b1d9-6ba5cadc71f9"
      },
      "execution_count": 34,
      "outputs": [
        {
          "output_type": "stream",
          "name": "stdout",
          "text": [
            "CPU times: user 178 ms, sys: 1.12 ms, total: 179 ms\n",
            "Wall time: 184 ms\n"
          ]
        }
      ]
    },
    {
      "cell_type": "markdown",
      "source": [
        "#### Plot predicted vs actual values"
      ],
      "metadata": {
        "id": "pZJyr-YWAQuX"
      }
    },
    {
      "cell_type": "code",
      "source": [
        "plot_visual(gb_model)"
      ],
      "metadata": {
        "colab": {
          "base_uri": "https://localhost:8080/",
          "height": 409
        },
        "id": "7sbV2W2BB6-A",
        "outputId": "62443180-cb8b-4ad6-fc9f-30c3d4b675d4"
      },
      "execution_count": 35,
      "outputs": [
        {
          "output_type": "display_data",
          "data": {
            "text/plain": [
              "<Figure size 550x400 with 1 Axes>"
            ],
            "image/png": "[encoded data removed]"
          },
          "metadata": {}
        }
      ]
    },
    {
      "cell_type": "markdown",
      "source": [
        "#### Evaluate the model"
      ],
      "metadata": {
        "id": "Hkvuu0qFAUf3"
      }
    },
    {
      "cell_type": "code",
      "source": [
        "evaluate_model(gb_model)"
      ],
      "metadata": {
        "colab": {
          "base_uri": "https://localhost:8080/"
        },
        "id": "7Veukd9oB8nM",
        "outputId": "d72a85c1-5297-48f4-9434-609c649e0887"
      },
      "execution_count": 36,
      "outputs": [
        {
          "output_type": "stream",
          "name": "stdout",
          "text": [
            "\n",
            "MSE: 79345.37\n",
            "MAE: 197.0\n",
            "RMSE: 281.68\n",
            "R Squared: 0.803\n"
          ]
        }
      ]
    },
    {
      "cell_type": "markdown",
      "source": [
        "### [`XGBRegressor`](https://scikit-learn.org/stable/modules/generated/sklearn.ensemble.GradientBoostingRegressor.html#sklearn-ensemble-gradientboostingregressor) algorithm"
      ],
      "metadata": {
        "id": "7ukObaRiC5SW"
      }
    },
    {
      "cell_type": "code",
      "source": [
        "%%html\n",
        "<div class = \"scrollable\">"
      ],
      "metadata": {
        "id": "F3pGLxd5N0CX",
        "colab": {
          "base_uri": "https://localhost:8080/",
          "height": 17
        },
        "outputId": "48139857-d7ab-41e4-8b1c-d829e25a5f12"
      },
      "execution_count": 37,
      "outputs": [
        {
          "output_type": "display_data",
          "data": {
            "text/plain": [
              "<IPython.core.display.HTML object>"
            ],
            "text/html": [
              "<div class = \"scrollable\">\n"
            ]
          },
          "metadata": {}
        }
      ]
    },
    {
      "cell_type": "code",
      "source": [
        "# Import xgboost\n",
        "from xgboost import XGBRegressor\n",
        "\n",
        "# Create a pipeline with preprocessor + XGBRegressor\n",
        "xgb_pipeline = Pipeline(steps=[\n",
        "    (\"preprocess\", preprocessor),\n",
        "    (\"regressor\", XGBRegressor(objective=\"reg:squarederror\"))\n",
        "])"
      ],
      "metadata": {
        "id": "XCBMg07JDRGz"
      },
      "execution_count": 38,
      "outputs": []
    },
    {
      "cell_type": "code",
      "source": [
        "%%html\n",
        "</div>"
      ],
      "metadata": {
        "id": "XGwuNau5N02Y",
        "colab": {
          "base_uri": "https://localhost:8080/",
          "height": 17
        },
        "outputId": "146b854d-16d1-4cf2-f2ee-8dc0c24911a4"
      },
      "execution_count": 39,
      "outputs": [
        {
          "output_type": "display_data",
          "data": {
            "text/plain": [
              "<IPython.core.display.HTML object>"
            ],
            "text/html": [
              "</div>\n"
            ]
          },
          "metadata": {}
        }
      ]
    },
    {
      "cell_type": "markdown",
      "source": [
        "#### Train the model"
      ],
      "metadata": {
        "id": "39LwXGGxC_HD"
      }
    },
    {
      "cell_type": "code",
      "source": [
        "%%time\n",
        "# Train the model\n",
        "xgb_model = xgb_pipeline.fit(X_train, y_train)"
      ],
      "metadata": {
        "colab": {
          "base_uri": "https://localhost:8080/"
        },
        "id": "iANNJx3xDA4v",
        "outputId": "8b33a3cf-2ac5-42e7-a52e-cefd82fdb267"
      },
      "execution_count": 40,
      "outputs": [
        {
          "output_type": "stream",
          "name": "stdout",
          "text": [
            "CPU times: user 264 ms, sys: 7.91 ms, total: 272 ms\n",
            "Wall time: 171 ms\n"
          ]
        }
      ]
    },
    {
      "cell_type": "markdown",
      "source": [
        "#### Plot predicted vs actual values"
      ],
      "metadata": {
        "id": "rsfOsdsuDFKS"
      }
    },
    {
      "cell_type": "code",
      "source": [
        "plot_visual(xgb_model)"
      ],
      "metadata": {
        "colab": {
          "base_uri": "https://localhost:8080/",
          "height": 409
        },
        "id": "Vhbv8ZxVDN2y",
        "outputId": "ae98780e-3551-43ba-cf46-e0999f974507"
      },
      "execution_count": 41,
      "outputs": [
        {
          "output_type": "display_data",
          "data": {
            "text/plain": [
              "<Figure size 550x400 with 1 Axes>"
            ],
            "image/png": "[encoded data removed]"
          },
          "metadata": {}
        }
      ]
    },
    {
      "cell_type": "markdown",
      "source": [
        "#### Evaluate the model"
      ],
      "metadata": {
        "id": "msFuPxIODOcy"
      }
    },
    {
      "cell_type": "code",
      "source": [
        "evaluate_model(xgb_model)"
      ],
      "metadata": {
        "colab": {
          "base_uri": "https://localhost:8080/"
        },
        "id": "In3hGO5tDPwI",
        "outputId": "280aeaa9-0474-4a53-bea1-2204a9f8f3ef"
      },
      "execution_count": 42,
      "outputs": [
        {
          "output_type": "stream",
          "name": "stdout",
          "text": [
            "\n",
            "MSE: 95963.46\n",
            "MAE: 212.51\n",
            "RMSE: 309.78\n",
            "R Squared: 0.762\n"
          ]
        }
      ]
    },
    {
      "cell_type": "markdown",
      "source": [
        "## Conclusion\n",
        "> In the previous notebook, the models were trained with data that was loaded straight from a source file, with only moderately successful results.\n",
        "\n",
        "> In this notebook, however, the models were loaded with pre-processed data (scaled numeric columns and encoded categorical columns). The results had a significant difference, as models loaded with pre-processed data had **better** evaluation metrics."
      ],
      "metadata": {
        "id": "QnU-2t-xH9r0"
      }
    }
  ]
}