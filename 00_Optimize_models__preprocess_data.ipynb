{
  "nbformat": 4,
  "nbformat_minor": 0,
  "metadata": {
    "colab": {
      "provenance": [],
      "toc_visible": true,
      "authorship_tag": "ABX9TyMJg7RB9KOldCxdY6pO5K2I"
    },
    "kernelspec": {
      "name": "python3",
      "display_name": "Python 3"
    },
    "language_info": {
      "name": "python"
    }
  },
  "cells": [
    {
      "cell_type": "markdown",
      "source": [
        "<style>\n",
        "  .scrollable{\n",
        "    max-height: 300px;\n",
        "    max-width: 100%;\n",
        "    overflow: auto;\n",
        "  }\n",
        "</style>\n",
        "\n",
        "# **Optimize models: Pre-process data**\n",
        "---\n",
        "> This notebook entails optimizing the performance of the models in the previous notebook by **pre-processing the data**"
      ],
      "metadata": {
        "id": "KFf16pY-TU7z"
      }
    },
    {
      "cell_type": "markdown",
      "source": [
        "## Load the data"
      ],
      "metadata": {
        "id": "FrovuMPL6_rd"
      }
    },
    {
      "cell_type": "code",
      "source": [
        "%%html\n",
        "<div class = \"scrollable\">"
      ],
      "metadata": {
        "id": "mdRYoYjTMyLN"
      },
      "execution_count": null,
      "outputs": []
    },
    {
      "cell_type": "code",
      "source": [
        "# Import pandas\n",
        "import pandas as pd\n",
        "\n",
        "# load the training dataset\n",
        "!wget https://raw.githubusercontent.com/MicrosoftDocs/mslearn-introduction-to-machine-learning/main/Data/ml-basics/daily-bike-share.csv\n",
        "bike_data = pd.read_csv('daily-bike-share.csv')"
      ],
      "metadata": {
        "id": "10_c65dI7fuk",
        "collapsed": true
      },
      "execution_count": null,
      "outputs": []
    },
    {
      "cell_type": "code",
      "source": [
        "%%html\n",
        "</div>"
      ],
      "metadata": {
        "id": "XnpHHUFzNEJx"
      },
      "execution_count": null,
      "outputs": []
    },
    {
      "cell_type": "code",
      "source": [
        "%%html\n",
        "<div class = \"scrollable\">"
      ],
      "metadata": {
        "id": "7ElGm1DVNGg-"
      },
      "execution_count": null,
      "outputs": []
    },
    {
      "cell_type": "code",
      "source": [
        "# Extract features / inputs (X) and label (y)\n",
        "# features/inputs (X):\n",
        "X = bike_data[['season','mnth', 'holiday','weekday','workingday','weathersit','temp', 'atemp', 'hum', 'windspeed']]\n",
        "\n",
        "# label (y):\n",
        "y = bike_data['rentals']\n",
        "\n",
        "numeric_features = ['temp', 'atemp', 'hum', 'windspeed']\n",
        "categorical_features = ['season','mnth','holiday','weekday','workingday','weathersit']"
      ],
      "metadata": {
        "id": "8EhjOUjK7x4Z"
      },
      "execution_count": null,
      "outputs": []
    },
    {
      "cell_type": "code",
      "source": [
        "%%html\n",
        "</div>"
      ],
      "metadata": {
        "id": "95O-DRiiNI7W"
      },
      "execution_count": null,
      "outputs": []
    },
    {
      "cell_type": "code",
      "source": [
        "%%html\n",
        "<div class = \"scrollable\">"
      ],
      "metadata": {
        "id": "pkwrxhjFNIaF"
      },
      "execution_count": null,
      "outputs": []
    },
    {
      "cell_type": "code",
      "source": [
        "# Import train_test_split\n",
        "from sklearn.model_selection import train_test_split\n",
        "\n",
        "# Split the data into training and validation / test sets 70% - 30%\n",
        "X_train, X_test, y_train, y_test = train_test_split(X, y, test_size=0.3, random_state=42)\n",
        "\n",
        "# Keep in mind that the resultant variables (X_train, X_test, y_train, y_test) are all DataFrames\n",
        "type(X_train)"
      ],
      "metadata": {
        "id": "it76Z4jD8aP8"
      },
      "execution_count": null,
      "outputs": []
    },
    {
      "cell_type": "code",
      "source": [
        "%%html\n",
        "</div>"
      ],
      "metadata": {
        "id": "m_j7HY2TNNlG"
      },
      "execution_count": null,
      "outputs": []
    },
    {
      "cell_type": "code",
      "source": [
        "%%html\n",
        "<div class = \"scrollable\">"
      ],
      "metadata": {
        "id": "pxjvGt4vNNfk"
      },
      "execution_count": null,
      "outputs": []
    },
    {
      "cell_type": "code",
      "source": [
        "# define function for evaluation model, on VALIDATION DATASET\n",
        "def evaluate_model(model):\n",
        "  from sklearn.metrics import mean_squared_error, r2_score, mean_absolute_error\n",
        "  import numpy as np\n",
        "\n",
        "  # Get predictions from the model passed\n",
        "  y_pred = model.predict(X_test)\n",
        "\n",
        "  # MSE\n",
        "  mse = mean_squared_error(y_test, y_pred)\n",
        "  # RMSE\n",
        "  rmse = np.sqrt(mse)\n",
        "  # R-squared\n",
        "  r2 = r2_score(y_test, y_pred)\n",
        "  # MAE\n",
        "  mae = mean_absolute_error(y_test, y_pred)\n",
        "\n",
        "  print(f\"\\nMSE: {round(mse, 2)}\")\n",
        "  print(f\"MAE: {round(mae, 2)}\")\n",
        "  print(f\"RMSE: {round(rmse, 2)}\")\n",
        "  print(f\"R Squared: {round(r2, 3)}\")"
      ],
      "metadata": {
        "id": "_2BNQc7keeey"
      },
      "execution_count": null,
      "outputs": []
    },
    {
      "cell_type": "code",
      "source": [
        "%%html\n",
        "</div>"
      ],
      "metadata": {
        "id": "l75Zu5URNSDt"
      },
      "execution_count": null,
      "outputs": []
    },
    {
      "cell_type": "code",
      "source": [
        "%%html\n",
        "<div class = \"scrollable\">"
      ],
      "metadata": {
        "id": "qAUxcucINR9V"
      },
      "execution_count": null,
      "outputs": []
    },
    {
      "cell_type": "code",
      "source": [
        "# Define a function to plot Predicted Label vs Actual Label + line of best fit\n",
        "def plot_visual(model):\n",
        "  # make predictions:\n",
        "  y_pred = model.predict(X_test)\n",
        "\n",
        "  import matplotlib.pyplot as plt\n",
        "  # Import linregress to calculate linear least_squares regression for y_pred & y_test\n",
        "  from scipy.stats import linregress\n",
        "  result = linregress(y_test, y_pred)\n",
        "  # f(x) = mx + b\n",
        "  b = result.intercept\n",
        "  m = result.slope\n",
        "  # f(x)\n",
        "  fx = pd.Series((m*y_test)+b)\n",
        "\n",
        "  # figure and Axes\n",
        "  fig, ax = plt.subplots(figsize=(5.5, 4))\n",
        "\n",
        "  # scatter plot\n",
        "  ax.scatter(x = y_test, y = y_pred, marker=\".\", color=\"#1b1b1b\")\n",
        "\n",
        "  # regression line\n",
        "  ax.plot(y_test, fx, color = \"#ff004f\", linewidth=1.5)\n",
        "\n",
        "  # Customize the plot with matplotlib methods\n",
        "  ax.set_ylabel(\"Predicted Label Values\", weight=\"black\", fontsize=9.5)\n",
        "  ax.set_xlabel(\"Actual Label Values\", weight=\"black\", fontsize=9.5)\n",
        "  ax.set_title(\"Daily Bike Share Predictions (with Regression Line)\")\n",
        "\n",
        "  plt.show()"
      ],
      "metadata": {
        "id": "XOiTAPT-eg6z"
      },
      "execution_count": null,
      "outputs": []
    },
    {
      "cell_type": "code",
      "source": [
        "%%html\n",
        "</div>"
      ],
      "metadata": {
        "id": "0w0x-xCgNWUn"
      },
      "execution_count": null,
      "outputs": []
    },
    {
      "cell_type": "markdown",
      "source": [
        "## Pre-processing the data\n",
        "> In practice, it's common to perform some preprocessing of the data to make it easier for the algorithm to fit a model to it.\n",
        "\n",
        "> There's a huge range of preprocessing transformations that can be performed to get data ready for modeling, but we'll limit ourselves to a few common techniques:\n",
        "+ Scaling numeric features\n",
        "+ Encoding categorical features"
      ],
      "metadata": {
        "id": "HapkjInuQPTf"
      }
    },
    {
      "cell_type": "markdown",
      "source": [
        "### Encoding categorical features\n",
        "> Machine-learning models work best with numeric features rather than text values, so the need to convert categorical features into numeric representations. This can be achieved by either of the two techniques\n",
        "+ [`OneHotEncoder`](https://scikit-learn.org/stable/modules/generated/sklearn.preprocessing.OneHotEncoder.html#sklearn.preprocessing.OneHotEncoder) - create individual binary (0 or 1) features for each possible category value  \n",
        "+ [`OrdinalEncoder`](https://scikit-learn.org/stable/modules/generated/sklearn.preprocessing.OrdinalEncoder.html#sklearn.preprocessing.OrdinalEncoder) - substitute a unique integer value for each unique category"
      ],
      "metadata": {
        "id": "IIw1UTSwBNye"
      }
    },
    {
      "cell_type": "markdown",
      "source": [
        "### Scaling numerical features\n",
        "> Numeric features often have different scales and ranges. For example, one feature might range from 0 to 100 while another ranges from 0 to 100,000.\n",
        "\n",
        "> Models like linear regression or neural networks are sensitive to the scale of input features. Features with larger scales might dominate the learning process, leading to biased or incorrect model predictions.\n",
        "\n",
        "> Scaling numeric features helps in bringing all features to the same scale, preventing any one feature from dominating the learning process and improving the model's convergence and performance. Numerical feature scaling can be done using:  \n",
        "+ [`StandardScaler`](https://scikit-learn.org/stable/modules/generated/sklearn.preprocessing.StandardScaler.html#sklearn.preprocessing.StandardScaler.transform) - scales features to have a mean of 0 and a standard deviation of 1 to maintain the same spread of values on a different scale  \n",
        "+ [`MinMaxScaler`](https://scikit-learn.org/stable/modules/generated/sklearn.preprocessing.OrdinalEncoder.html#sklearn.preprocessing.OrdinalEncoder) - calculates the minimum and maximum values for each column and assigns a proportional value a given range, typically between 0 and 1  "
      ],
      "metadata": {
        "id": "U67jWwGSDLSQ"
      }
    },
    {
      "cell_type": "markdown",
      "source": [
        "## Scikit-Learn [`Pipeline`](https://scikit-learn.org/stable/modules/generated/sklearn.pipeline.Pipeline.html#sklearn.pipeline.Pipeline)  \n",
        "> A Scikit-Learn feature that allows `list` a number of transformers to perform preprocessing on data, and apply an optional final _predictor._ Intermediate steps of the pipeline must be _transforms_, that is, they must implement `fit` and `transform` methods. The final _estimator_ only needs to implement `fit`\n",
        "\n",
        "> Here are some common examples:  \n",
        ">> **1. Estimators (Modeling Algorithms):**\n",
        "+ Classifiers (e.g., `LogisticRegression`, `RandomForestClassifier`)\n",
        "+ Regressors (e.g., `LinearRegression`, `RandomForestRegressor`)\n",
        "+ Clustering algorithms (e.g., `KMeans`, `DBSCAN`)\n",
        "\n",
        ">> **2. Transformers (Preprocessing and Feature Engineering):**   \n",
        "+ Scaling methods (e.g., `StandardScaler`, `MinMaxScaler`)\n",
        "+ Imputation techniques (e.g., [`SimpleImputer`](https://scikit-learn.org/stable/modules/generated/sklearn.impute.SimpleImputer.html#sklearn.impute.SimpleImputer))\n",
        "+ Feature selection methods (e.g., `SelectKBest`, `PCA`)\n",
        "+ Text processing tools (e.g., `TfidfVectorizer`, `CountVectorizer`)\n",
        "\n",
        ">> **3. Composite Estimators or Pipelines:**  \n",
        "+ Pipelines themselves can be nested within other pipelines, allowing for complex preprocessing and modeling workflows.  \n",
        "\n",
        "> A `Pipeline` object is created by passing a list of tuples. Each tuple contains a _name for the step_ and an _estimator / transformer object._\n",
        "+ The _name of the step_ is user-defined and can be any string that is meaningful to the user. Example:  \n",
        "```\n",
        "pipeline = Pipeline(steps=[\n",
        "    ('scaler', StandardScaler()),  # Step 1: StandardScaler\n",
        "    ('svc', SVC())  # Step 2: SVC\n",
        "])\n",
        "```"
      ],
      "metadata": {
        "id": "X1L-P5GW6wor"
      }
    },
    {
      "cell_type": "code",
      "source": [
        "%%html\n",
        "<div class = \"scrollable\">"
      ],
      "metadata": {
        "id": "_rO2kOAHNbMt"
      },
      "execution_count": null,
      "outputs": []
    },
    {
      "cell_type": "code",
      "source": [
        "# Import Pipeline, OneHotEncoder, StandardScaler, SimpleImputer\n",
        "from sklearn.pipeline import Pipeline\n",
        "from sklearn.preprocessing import OneHotEncoder\n",
        "from sklearn.preprocessing import StandardScaler\n",
        "from sklearn.impute import SimpleImputer\n",
        "\n",
        "# Specify transformer to encode categorical features\n",
        "\"\"\"\n",
        "handle_unknown=\"ignore\"\n",
        "\n",
        "When an unknown category is encountered during transform,\n",
        "the resulting one-hot encoded columns for this feature will be all zeros.\n",
        "In the inverse transform, an unknown category will be denoted as None.\n",
        "\n",
        "strategy=\"most_frequent\"\n",
        "Replace missing using the most frequent value along each column\n",
        "\n",
        "\"\"\"\n",
        "cat_transformer = Pipeline(steps=[\n",
        "    (\"imputer\", SimpleImputer(strategy=\"most_frequent\")),\n",
        "    (\"ohe\", OneHotEncoder(handle_unknown=\"ignore\"))\n",
        "])"
      ],
      "metadata": {
        "id": "i6RIE9eG-HCq"
      },
      "execution_count": null,
      "outputs": []
    },
    {
      "cell_type": "code",
      "source": [
        "%%html\n",
        "</div>"
      ],
      "metadata": {
        "id": "SfQsLECbNcov"
      },
      "execution_count": null,
      "outputs": []
    },
    {
      "cell_type": "code",
      "source": [
        "%%html\n",
        "<div class = \"scrollable\">"
      ],
      "metadata": {
        "id": "gWSxXuPmNciT"
      },
      "execution_count": null,
      "outputs": []
    },
    {
      "cell_type": "code",
      "source": [
        "# Specify transformer to scale numerical features\n",
        "\"\"\"\n",
        "strategy=\"mean\"\n",
        "Replace missing values using the mean along each column.\n",
        "Can only be used with numeric data\n",
        "\"\"\"\n",
        "num_transformer = Pipeline(steps=[\n",
        "    (\"imputer\", SimpleImputer(strategy=\"mean\")),\n",
        "    (\"std_sc\", StandardScaler())\n",
        "])"
      ],
      "metadata": {
        "id": "X0PKSkle-YTP"
      },
      "execution_count": null,
      "outputs": []
    },
    {
      "cell_type": "code",
      "source": [
        "%%html\n",
        "</div>"
      ],
      "metadata": {
        "id": "JuGfkhssNgh3"
      },
      "execution_count": null,
      "outputs": []
    },
    {
      "cell_type": "markdown",
      "source": [
        "## Scikit-Learn [`ColumnTransformer`](https://scikit-learn.org/stable/modules/generated/sklearn.compose.ColumnTransformer.html#sklearn.compose.ColumnTransformer)  \n",
        "\n",
        "> The `ColumnTransformer` in scikit-learn allows one to apply different transformers to different columns of the input data (`array` or `pandas` columns), enabling one to perform various preprocessing steps on specific subsets of features within the dataset.  \n",
        "\n",
        "> It's particularly useful when you have heterogeneous data, where different columns require different preprocessing steps.\n",
        "\n",
        "> Parameters:  \n",
        "+ **transformers:** `list` of (name, transformer, columns) tuples specifying the transformer objects to be applied to subsets of the data, and specific columns.\n",
        ">> + _namestr_ - a user-defined name of the transformer `Pipeline`\n",
        ">> + _transformer / estimator_\n",
        ">> + _columns:_ str, array-like of str, int, array-like of int, array-like of bool, slice or callable - Indexes the data on its second axis. Integers are interpreted as positional columns, while strings can reference DataFrame columns by name\n",
        "\n",
        "> Example:  \n",
        "```\n",
        "preprocessor = ColumnTransformer(\n",
        "    transformers=[\n",
        "        ('num', numeric_transformer, ['numeric_feature']),\n",
        "        ('cat', categorical_transformer, ['categorical_feature'])\n",
        "    ])\n",
        "```"
      ],
      "metadata": {
        "id": "_ZOMBKR3CvKh"
      }
    },
    {
      "cell_type": "code",
      "source": [
        "%%html\n",
        "<div class = \"scrollable\">"
      ],
      "metadata": {
        "id": "KfsfCwXRNltF"
      },
      "execution_count": null,
      "outputs": []
    },
    {
      "cell_type": "code",
      "source": [
        "# import ColumnTransformer\n",
        "from  sklearn.compose import ColumnTransformer\n",
        "\n",
        "# Now combining the cat_transformer and num_transformer preprocessing steps into one:\n",
        "preprocessor = ColumnTransformer(transformers=[\n",
        "    (\"cat\", cat_transformer, categorical_features),\n",
        "    (\"num\", num_transformer, numeric_features)\n",
        "])"
      ],
      "metadata": {
        "id": "n1e_N4oP_Wye"
      },
      "execution_count": null,
      "outputs": []
    },
    {
      "cell_type": "code",
      "source": [
        "%%html\n",
        "</div>"
      ],
      "metadata": {
        "id": "Voq1fnQ7NnLa"
      },
      "execution_count": null,
      "outputs": []
    },
    {
      "cell_type": "markdown",
      "source": [
        "## Create preprocessing and training `Pipeline`"
      ],
      "metadata": {
        "id": "CAxBTFX0_NEd"
      }
    },
    {
      "cell_type": "markdown",
      "source": [
        "### [`RandomForestRegressor`](https://scikit-learn.org/stable/modules/generated/sklearn.ensemble.RandomForestRegressor.html#sklearn-ensemble-randomforestregressor) algorithm"
      ],
      "metadata": {
        "id": "nn7iDE33_W-Q"
      }
    },
    {
      "cell_type": "code",
      "source": [
        "%%html\n",
        "<div class = \"scrollable\">"
      ],
      "metadata": {
        "id": "lzK8iVjcNqbi"
      },
      "execution_count": null,
      "outputs": []
    },
    {
      "cell_type": "code",
      "source": [
        "# import RandomForestRegressor\n",
        "from sklearn.ensemble import RandomForestRegressor\n",
        "\n",
        "# Create pipeline with preprocessor + RandomForestRegressor\n",
        "forest_pipeline = Pipeline(steps=[\n",
        "    (\"preprocess\", preprocessor),\n",
        "    (\"regressor\", RandomForestRegressor())\n",
        "])"
      ],
      "metadata": {
        "id": "Buhrv8GCBK2t"
      },
      "execution_count": null,
      "outputs": []
    },
    {
      "cell_type": "code",
      "source": [
        "%%html\n",
        "</div>"
      ],
      "metadata": {
        "id": "QpNXKSqdNrPW"
      },
      "execution_count": null,
      "outputs": []
    },
    {
      "cell_type": "markdown",
      "source": [
        "#### Fit the model"
      ],
      "metadata": {
        "id": "sf5HNn1K_8dz"
      }
    },
    {
      "cell_type": "code",
      "source": [
        "%%time\n",
        "# Train model\n",
        "forest_model = forest_pipeline.fit(X_train, y_train)"
      ],
      "metadata": {
        "colab": {
          "base_uri": "https://localhost:8080/"
        },
        "id": "ucYGXrjDApTo",
        "outputId": "c2e70b74-827e-43f9-a16a-43cf123238ba"
      },
      "execution_count": null,
      "outputs": [
        {
          "output_type": "stream",
          "name": "stdout",
          "text": [
            "CPU times: user 687 ms, sys: 3.09 ms, total: 690 ms\n",
            "Wall time: 709 ms\n"
          ]
        }
      ]
    },
    {
      "cell_type": "markdown",
      "source": [
        "#### Plot predicted vs actual values"
      ],
      "metadata": {
        "id": "dcG61GQO_9_g"
      }
    },
    {
      "cell_type": "code",
      "source": [
        "plot_visual(forest_model)"
      ],
      "metadata": {
        "colab": {
          "base_uri": "https://localhost:8080/",
          "height": 409
        },
        "id": "Mi5S10r6BrbO",
        "outputId": "a828814f-6db7-4709-9050-88dbeb4ffcb6"
      },
      "execution_count": null,
      "outputs": [
        {
          "output_type": "display_data",
          "data": {
            "text/plain": [
              "<Figure size 550x400 with 1 Axes>"
            ],
            "image/png": "[encoded data removed]"
          },
          "metadata": {}
        }
      ]
    },
    {
      "cell_type": "markdown",
      "source": [
        "#### Evaluate the model"
      ],
      "metadata": {
        "id": "QJvo0ZRxAEmY"
      }
    },
    {
      "cell_type": "code",
      "source": [
        "evaluate_model(forest_model)"
      ],
      "metadata": {
        "colab": {
          "base_uri": "https://localhost:8080/"
        },
        "id": "CUBJP7jLBz8c",
        "outputId": "3faf410f-8bce-4975-ed5f-295059c16187"
      },
      "execution_count": null,
      "outputs": [
        {
          "output_type": "stream",
          "name": "stdout",
          "text": [
            "\n",
            "MSE: 76628.83\n",
            "MAE: 195.24\n",
            "RMSE: 276.82\n",
            "R Squared: 0.81\n"
          ]
        }
      ]
    },
    {
      "cell_type": "markdown",
      "source": [
        "### [`GradientBoostingRegressor`](https://scikit-learn.org/stable/modules/generated/sklearn.ensemble.GradientBoostingRegressor.html#sklearn-ensemble-gradientboostingregressor) algorithm"
      ],
      "metadata": {
        "id": "UY2Ouun6_jdW"
      }
    },
    {
      "cell_type": "code",
      "source": [
        "%%html\n",
        "<div class = \"scrollable\">"
      ],
      "metadata": {
        "id": "x5LsLW0UNu7S"
      },
      "execution_count": null,
      "outputs": []
    },
    {
      "cell_type": "code",
      "source": [
        "# import GradientBoostingRegressor\n",
        "from sklearn.ensemble import GradientBoostingRegressor\n",
        "\n",
        "# Create pipeline with preprocessor + GradientBoostingRegressor\n",
        "gb_pipeline = Pipeline(steps=[\n",
        "    (\"preprocess\", preprocessor),\n",
        "    (\"regressor\", GradientBoostingRegressor())\n",
        "])"
      ],
      "metadata": {
        "id": "uqic2PnRBNkE"
      },
      "execution_count": null,
      "outputs": []
    },
    {
      "cell_type": "code",
      "source": [
        "%%html\n",
        "</div>"
      ],
      "metadata": {
        "id": "E5pF30qqNv_N"
      },
      "execution_count": null,
      "outputs": []
    },
    {
      "cell_type": "markdown",
      "source": [
        "#### Fit the model"
      ],
      "metadata": {
        "id": "Y7dSN0z9APLP"
      }
    },
    {
      "cell_type": "code",
      "source": [
        "%%time\n",
        "# Train the model\n",
        "gb_model = gb_pipeline.fit(X_train, y_train)"
      ],
      "metadata": {
        "colab": {
          "base_uri": "https://localhost:8080/"
        },
        "id": "gkoHsF5sDpm2",
        "outputId": "8487a972-50bd-44b8-c7db-e0b4bb5b0ca1"
      },
      "execution_count": null,
      "outputs": [
        {
          "output_type": "stream",
          "name": "stdout",
          "text": [
            "CPU times: user 170 ms, sys: 1.47 ms, total: 171 ms\n",
            "Wall time: 172 ms\n"
          ]
        }
      ]
    },
    {
      "cell_type": "markdown",
      "source": [
        "#### Plot predicted vs actual values"
      ],
      "metadata": {
        "id": "pZJyr-YWAQuX"
      }
    },
    {
      "cell_type": "code",
      "source": [
        "plot_visual(gb_model)"
      ],
      "metadata": {
        "colab": {
          "base_uri": "https://localhost:8080/",
          "height": 409
        },
        "id": "7sbV2W2BB6-A",
        "outputId": "7ff122ca-d3b8-4c90-d5ad-381262c81940"
      },
      "execution_count": null,
      "outputs": [
        {
          "output_type": "display_data",
          "data": {
            "text/plain": [
              "<Figure size 550x400 with 1 Axes>"
            ],
            "image/png": "[encoded data removed]"
          },
          "metadata": {}
        }
      ]
    },
    {
      "cell_type": "markdown",
      "source": [
        "#### Evaluate the model"
      ],
      "metadata": {
        "id": "Hkvuu0qFAUf3"
      }
    },
    {
      "cell_type": "code",
      "source": [
        "evaluate_model(gb_model)"
      ],
      "metadata": {
        "colab": {
          "base_uri": "https://localhost:8080/"
        },
        "id": "7Veukd9oB8nM",
        "outputId": "0d295a10-2fc7-4830-d66a-8b32c09d823b"
      },
      "execution_count": null,
      "outputs": [
        {
          "output_type": "stream",
          "name": "stdout",
          "text": [
            "\n",
            "MSE: 78286.08\n",
            "MAE: 195.31\n",
            "RMSE: 279.8\n",
            "R Squared: 0.806\n"
          ]
        }
      ]
    },
    {
      "cell_type": "markdown",
      "source": [
        "### [`XGBRegressor`](https://scikit-learn.org/stable/modules/generated/sklearn.ensemble.GradientBoostingRegressor.html#sklearn-ensemble-gradientboostingregressor) algorithm"
      ],
      "metadata": {
        "id": "7ukObaRiC5SW"
      }
    },
    {
      "cell_type": "code",
      "source": [
        "%%html\n",
        "<div class = \"scrollable\">"
      ],
      "metadata": {
        "id": "F3pGLxd5N0CX"
      },
      "execution_count": null,
      "outputs": []
    },
    {
      "cell_type": "code",
      "source": [
        "# Import xgboost\n",
        "from xgboost import XGBRegressor\n",
        "\n",
        "# Create a pipeline with preprocessor + XGBRegressor\n",
        "xgb_pipeline = Pipeline(steps=[\n",
        "    (\"preprocess\", preprocessor),\n",
        "    (\"regressor\", XGBRegressor(objective=\"reg:squarederror\"))\n",
        "])"
      ],
      "metadata": {
        "id": "XCBMg07JDRGz"
      },
      "execution_count": null,
      "outputs": []
    },
    {
      "cell_type": "code",
      "source": [
        "%%html\n",
        "</div>"
      ],
      "metadata": {
        "id": "XGwuNau5N02Y"
      },
      "execution_count": null,
      "outputs": []
    },
    {
      "cell_type": "markdown",
      "source": [
        "#### Train the model"
      ],
      "metadata": {
        "id": "39LwXGGxC_HD"
      }
    },
    {
      "cell_type": "code",
      "source": [
        "%%time\n",
        "# Train the model\n",
        "xgb_model = xgb_pipeline.fit(X_train, y_train)"
      ],
      "metadata": {
        "colab": {
          "base_uri": "https://localhost:8080/"
        },
        "id": "iANNJx3xDA4v",
        "outputId": "9fcbe800-dd12-413c-a633-fa47afd8520a"
      },
      "execution_count": null,
      "outputs": [
        {
          "output_type": "stream",
          "name": "stdout",
          "text": [
            "CPU times: user 1.92 s, sys: 7.14 ms, total: 1.93 s\n",
            "Wall time: 1.9 s\n"
          ]
        }
      ]
    },
    {
      "cell_type": "markdown",
      "source": [
        "#### Plot predicted vs actual values"
      ],
      "metadata": {
        "id": "rsfOsdsuDFKS"
      }
    },
    {
      "cell_type": "code",
      "source": [
        "plot_visual(xgb_model)"
      ],
      "metadata": {
        "colab": {
          "base_uri": "https://localhost:8080/",
          "height": 409
        },
        "id": "Vhbv8ZxVDN2y",
        "outputId": "e51a268f-9b76-4e96-d993-eb90085ae86a"
      },
      "execution_count": null,
      "outputs": [
        {
          "output_type": "display_data",
          "data": {
            "text/plain": [
              "<Figure size 550x400 with 1 Axes>"
            ],
            "image/png": "[encoded data removed]"
          },
          "metadata": {}
        }
      ]
    },
    {
      "cell_type": "markdown",
      "source": [
        "#### Evaluate the model"
      ],
      "metadata": {
        "id": "msFuPxIODOcy"
      }
    },
    {
      "cell_type": "code",
      "source": [
        "evaluate_model(xgb_model)"
      ],
      "metadata": {
        "colab": {
          "base_uri": "https://localhost:8080/"
        },
        "id": "In3hGO5tDPwI",
        "outputId": "74c0469e-8240-4e26-ced9-7892c9389e0f"
      },
      "execution_count": null,
      "outputs": [
        {
          "output_type": "stream",
          "name": "stdout",
          "text": [
            "\n",
            "MSE: 95963.46\n",
            "MAE: 212.51\n",
            "RMSE: 309.78\n",
            "R Squared: 0.762\n"
          ]
        }
      ]
    },
    {
      "cell_type": "markdown",
      "source": [
        "## Conclusion\n",
        "> In the previous notebook, the models were trained with data that was loaded straight from a source file, with only moderately successful results.\n",
        "\n",
        "> In this notebook, however, the models were loaded with pre-processed data (scaled numeric columns and encoded categorical columns). The results had a significant difference, as models loaded with pre-processed data had **better** evaluation metrics."
      ],
      "metadata": {
        "id": "QnU-2t-xH9r0"
      }
    }
  ]
}